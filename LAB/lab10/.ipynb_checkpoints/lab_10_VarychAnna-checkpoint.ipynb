{
 "cells": [
  {
   "cell_type": "markdown",
   "id": "896cd20b-605c-41e2-9939-8763173669fe",
   "metadata": {},
   "source": [
    "# Лабораторна робота №10. Жадібна стратегія на прикладі кодування Гафмена"
   ]
  },
  {
   "cell_type": "markdown",
   "id": "65d076da-f61b-4f34-9d00-953b5831250d",
   "metadata": {},
   "source": [
    "#### __Мета:__ _Навичтись реалізовувати алгоритм побудови дерева оптимальних кодів Гафмена на основі черги з пріоритетом (за допомогою купи) засобами Python._ "
   ]
  },
  {
   "cell_type": "markdown",
   "id": "e960f1a0-4e54-4b43-8949-dbc04f5644be",
   "metadata": {},
   "source": [
    "Виконав роботу студент групи КН-23-1 Люлін Владислав"
   ]
  },
  {
   "cell_type": "markdown",
   "id": "9e86a0d2-b0f8-4fb4-82bc-b8f678ef251e",
   "metadata": {},
   "source": [
    "* Завдання 1"
   ]
  },
  {
   "cell_type": "markdown",
   "id": "85770f28-af10-4c2e-a41b-e106ee8c214d",
   "metadata": {},
   "source": [
    "__Постановка задачі:__ \n",
    "* Побудувати дерево кодів Гафмена вручну і візуалізувати дерево.(варіант 6).Маємо текст AARERERERYUBAABACBBCBCEEFFFGGGGGGDEE. Закодувати\n",
    "текст, використовуючи алгоритм Гафмена. Побудувати двійкове дерево.\n",
    "Оцінити ефект від кодування порівняно з неоптимальним випадком."
   ]
  },
  {
   "cell_type": "code",
   "execution_count": 1,
   "id": "7017e03c-d697-46ee-90a3-b39090ba50b3",
   "metadata": {},
   "outputs": [
    {
     "ename": "NameError",
     "evalue": "name 'defaultdict' is not defined",
     "output_type": "error",
     "traceback": [
      "\u001b[1;31m---------------------------------------------------------------------------\u001b[0m",
      "\u001b[1;31mNameError\u001b[0m                                 Traceback (most recent call last)",
      "Cell \u001b[1;32mIn[1], line 62\u001b[0m\n\u001b[0;32m     59\u001b[0m             visualize_tree(root\u001b[38;5;241m.\u001b[39mright, ax, x_right, y_right, width \u001b[38;5;241m/\u001b[39m \u001b[38;5;241m2\u001b[39m, depth \u001b[38;5;241m+\u001b[39m \u001b[38;5;241m1\u001b[39m)\n\u001b[0;32m     61\u001b[0m text \u001b[38;5;241m=\u001b[39m \u001b[38;5;124m\"\u001b[39m\u001b[38;5;124mAARERERERYUBAABACBBCBCEEFFFGGGGGGDEE\u001b[39m\u001b[38;5;124m\"\u001b[39m\n\u001b[1;32m---> 62\u001b[0m encoded_text, huffman_code \u001b[38;5;241m=\u001b[39m huffman_encoding(text)\n\u001b[0;32m     63\u001b[0m \u001b[38;5;28mprint\u001b[39m(\u001b[38;5;124m\"\u001b[39m\u001b[38;5;124mEncoded text:\u001b[39m\u001b[38;5;124m\"\u001b[39m, encoded_text)\n\u001b[0;32m     64\u001b[0m \u001b[38;5;28mprint\u001b[39m(\u001b[38;5;124m\"\u001b[39m\u001b[38;5;124mHuffman codes:\u001b[39m\u001b[38;5;124m\"\u001b[39m)\n",
      "Cell \u001b[1;32mIn[1], line 40\u001b[0m, in \u001b[0;36mhuffman_encoding\u001b[1;34m(text)\u001b[0m\n\u001b[0;32m     39\u001b[0m \u001b[38;5;28;01mdef\u001b[39;00m \u001b[38;5;21mhuffman_encoding\u001b[39m(text):\n\u001b[1;32m---> 40\u001b[0m     root \u001b[38;5;241m=\u001b[39m build_huffman_tree(text)\n\u001b[0;32m     41\u001b[0m     huffman_code \u001b[38;5;241m=\u001b[39m {}\n\u001b[0;32m     42\u001b[0m     encode_huffman(root, \u001b[38;5;124m'\u001b[39m\u001b[38;5;124m'\u001b[39m, huffman_code)\n",
      "Cell \u001b[1;32mIn[1], line 14\u001b[0m, in \u001b[0;36mbuild_huffman_tree\u001b[1;34m(text)\u001b[0m\n\u001b[0;32m     13\u001b[0m \u001b[38;5;28;01mdef\u001b[39;00m \u001b[38;5;21mbuild_huffman_tree\u001b[39m(text):\n\u001b[1;32m---> 14\u001b[0m     freq_map \u001b[38;5;241m=\u001b[39m defaultdict(\u001b[38;5;28mint\u001b[39m)\n\u001b[0;32m     15\u001b[0m     \u001b[38;5;28;01mfor\u001b[39;00m char \u001b[38;5;129;01min\u001b[39;00m text:\n\u001b[0;32m     16\u001b[0m         freq_map[char] \u001b[38;5;241m+\u001b[39m\u001b[38;5;241m=\u001b[39m \u001b[38;5;241m1\u001b[39m\n",
      "\u001b[1;31mNameError\u001b[0m: name 'defaultdict' is not defined"
     ]
    }
   ],
   "source": [
    "import matplotlib.pyplot as plt\n",
    "\n",
    "class Node:\n",
    "    def __init__(self, char, freq):\n",
    "        self.char = char\n",
    "        self.freq = freq\n",
    "        self.left = None\n",
    "        self.right = None\n",
    "\n",
    "    def __lt__(self, other):\n",
    "        return self.freq < other.freq\n",
    "\n",
    "def build_huffman_tree(text):\n",
    "    freq_map = defaultdict(int)\n",
    "    for char in text:\n",
    "        freq_map[char] += 1\n",
    "\n",
    "    heap = [Node(char, freq) for char, freq in freq_map.items()]\n",
    "    heapify(heap)\n",
    "\n",
    "    while len(heap) > 1:\n",
    "        left = heappop(heap)\n",
    "        right = heappop(heap)\n",
    "        merged = Node(None, left.freq + right.freq)\n",
    "        merged.left = left\n",
    "        merged.right = right\n",
    "        heappush(heap, merged)\n",
    "\n",
    "    return heap[0]\n",
    "\n",
    "def encode_huffman(root, code='', huffman_code={}):\n",
    "    if root is None:\n",
    "        return\n",
    "    if root.char is not None:\n",
    "        huffman_code[root.char] = code\n",
    "    encode_huffman(root.left, code + '0', huffman_code)\n",
    "    encode_huffman(root.right, code + '1', huffman_code)\n",
    "\n",
    "def huffman_encoding(text):\n",
    "    root = build_huffman_tree(text)\n",
    "    huffman_code = {}\n",
    "    encode_huffman(root, '', huffman_code)\n",
    "    encoded_text = ''.join(huffman_code[char] for char in text)\n",
    "    return encoded_text, huffman_code\n",
    "\n",
    "def visualize_tree(root, ax, x=0, y=0, width=1000, depth=1):\n",
    "    if root is not None:\n",
    "        ax.text(x, y, f\"{root.char}\\n{root.freq}\", style='italic', weight='bold',\n",
    "                bbox={'facecolor': 'white', 'alpha': 0.5, 'pad': 5})\n",
    "        if root.left is not None:\n",
    "            x_left = x - width / 2 / depth\n",
    "            y_left = y - 1\n",
    "            ax.plot([x, x_left], [y, y_left], '-k')\n",
    "            visualize_tree(root.left, ax, x_left, y_left, width / 2, depth + 1)\n",
    "        if root.right is not None:\n",
    "            x_right = x + width / 2 / depth\n",
    "            y_right = y - 1\n",
    "            ax.plot([x, x_right], [y, y_right], '-k')\n",
    "            visualize_tree(root.right, ax, x_right, y_right, width / 2, depth + 1)\n",
    "\n",
    "text = \"AARERERERYUBAABACBBCBCEEFFFGGGGGGDEE\"\n",
    "encoded_text, huffman_code = huffman_encoding(text)\n",
    "print(\"Encoded text:\", encoded_text)\n",
    "print(\"Huffman codes:\")\n",
    "for char, code in huffman_code.items():\n",
    "    print(f\"{char}: {code}\")\n",
    "\n",
    "root = build_huffman_tree(text)\n",
    "fig, ax = plt.subplots(figsize=(10, 8))\n",
    "visualize_tree(root, ax)\n",
    "ax.set_xlim(0, 1000)\n",
    "ax.set_ylim(-10, 0)\n",
    "ax.axis('off')\n",
    "plt.show()\n"
   ]
  },
  {
   "cell_type": "markdown",
   "id": "24b3ebce-cf71-4866-b829-5cf7e935d06f",
   "metadata": {},
   "source": [
    "* Завдання 2"
   ]
  },
  {
   "cell_type": "markdown",
   "id": "8ec4c4f2-1a05-46ff-8479-8f8db95e3101",
   "metadata": {},
   "source": [
    "__Постановка задачі:__ Перевірити результат за допомогою коду, наведеному вище."
   ]
  },
  {
   "cell_type": "code",
   "execution_count": 3,
   "id": "a8462a9c-1e73-4cb5-a4da-aa96db18f021",
   "metadata": {},
   "outputs": [
    {
     "ename": "NameError",
     "evalue": "name 'heapify' is not defined",
     "output_type": "error",
     "traceback": [
      "\u001b[1;31m---------------------------------------------------------------------------\u001b[0m",
      "\u001b[1;31mNameError\u001b[0m                                 Traceback (most recent call last)",
      "Cell \u001b[1;32mIn[3], line 13\u001b[0m\n\u001b[0;32m     10\u001b[0m     \u001b[38;5;28;01mreturn\u001b[39;00m decoded_text\n\u001b[0;32m     12\u001b[0m text \u001b[38;5;241m=\u001b[39m \u001b[38;5;124m\"\u001b[39m\u001b[38;5;124mAARERERERYUBAABACBBCBCEEFFFGGGGGGDEE\u001b[39m\u001b[38;5;124m\"\u001b[39m\n\u001b[1;32m---> 13\u001b[0m encoded_text, huffman_code \u001b[38;5;241m=\u001b[39m huffman_encoding(text)\n\u001b[0;32m     14\u001b[0m decoded_text \u001b[38;5;241m=\u001b[39m decode_huffman(encoded_text, huffman_code)\n\u001b[0;32m     16\u001b[0m \u001b[38;5;28mprint\u001b[39m(\u001b[38;5;124m\"\u001b[39m\u001b[38;5;124mOriginal text:\u001b[39m\u001b[38;5;124m\"\u001b[39m, text)\n",
      "Cell \u001b[1;32mIn[1], line 40\u001b[0m, in \u001b[0;36mhuffman_encoding\u001b[1;34m(text)\u001b[0m\n\u001b[0;32m     39\u001b[0m \u001b[38;5;28;01mdef\u001b[39;00m \u001b[38;5;21mhuffman_encoding\u001b[39m(text):\n\u001b[1;32m---> 40\u001b[0m     root \u001b[38;5;241m=\u001b[39m build_huffman_tree(text)\n\u001b[0;32m     41\u001b[0m     huffman_code \u001b[38;5;241m=\u001b[39m {}\n\u001b[0;32m     42\u001b[0m     encode_huffman(root, \u001b[38;5;124m'\u001b[39m\u001b[38;5;124m'\u001b[39m, huffman_code)\n",
      "Cell \u001b[1;32mIn[1], line 19\u001b[0m, in \u001b[0;36mbuild_huffman_tree\u001b[1;34m(text)\u001b[0m\n\u001b[0;32m     16\u001b[0m     freq_map[char] \u001b[38;5;241m+\u001b[39m\u001b[38;5;241m=\u001b[39m \u001b[38;5;241m1\u001b[39m\n\u001b[0;32m     18\u001b[0m heap \u001b[38;5;241m=\u001b[39m [Node(char, freq) \u001b[38;5;28;01mfor\u001b[39;00m char, freq \u001b[38;5;129;01min\u001b[39;00m freq_map\u001b[38;5;241m.\u001b[39mitems()]\n\u001b[1;32m---> 19\u001b[0m heapify(heap)\n\u001b[0;32m     21\u001b[0m \u001b[38;5;28;01mwhile\u001b[39;00m \u001b[38;5;28mlen\u001b[39m(heap) \u001b[38;5;241m>\u001b[39m \u001b[38;5;241m1\u001b[39m:\n\u001b[0;32m     22\u001b[0m     left \u001b[38;5;241m=\u001b[39m heappop(heap)\n",
      "\u001b[1;31mNameError\u001b[0m: name 'heapify' is not defined"
     ]
    }
   ],
   "source": [
    "def decode_huffman(encoded_text, huffman_code):\n",
    "    reversed_huffman_code = {code: char for char, code in huffman_code.items()}\n",
    "    decoded_text = \"\"\n",
    "    code = \"\"\n",
    "    for bit in encoded_text:\n",
    "        code += bit\n",
    "        if code in reversed_huffman_code:\n",
    "            decoded_text += reversed_huffman_code[code]\n",
    "            code = \"\"\n",
    "    return decoded_text\n",
    "\n",
    "text = \"AARERERERYUBAABACBBCBCEEFFFGGGGGGDEE\"\n",
    "encoded_text, huffman_code = huffman_encoding(text)\n",
    "decoded_text = decode_huffman(encoded_text, huffman_code)\n",
    "\n",
    "print(\"Original text:\", text)\n",
    "print(\"Decoded text:\", decoded_text)\n",
    "print(\"Are original and decoded texts the same?\", text == decoded_text)\n"
   ]
  },
  {
   "cell_type": "markdown",
   "id": "7bf9a50b-5224-45ea-a95a-f5bcdfb0e194",
   "metadata": {},
   "source": [
    "* Завдання 3"
   ]
  },
  {
   "cell_type": "markdown",
   "id": "969dba11-5130-40d0-8d2b-e653072e714e",
   "metadata": {},
   "source": [
    "__Постановка задачі:__ Написати процедуру на Python, яка для вхідного повідомлення обчислює список символів  `chars` та список їх частот `freq`. "
   ]
  },
  {
   "cell_type": "code",
   "execution_count": 6,
   "id": "6d6201c0-35cd-410a-bc90-f2ecb0b00a8a",
   "metadata": {},
   "outputs": [
    {
     "name": "stdout",
     "output_type": "stream",
     "text": [
      "Chars: ['H', 'e', 'l', 'o', ',', ' ', 'w', 'r', 'd', '!']\n",
      "Freq: [1, 1, 3, 2, 1, 1, 1, 1, 1, 1]\n"
     ]
    }
   ],
   "source": [
    "from collections import defaultdict\n",
    "\n",
    "def compute_char_frequency(message):\n",
    "    char_freq = defaultdict(int)\n",
    "    for char in message:\n",
    "        char_freq[char] += 1\n",
    "    \n",
    "    chars = list(char_freq.keys())\n",
    "    freq = list(char_freq.values())\n",
    "    \n",
    "    return chars, freq\n",
    "\n",
    "message = \"Hello, world!\"\n",
    "chars, freq = compute_char_frequency(message)\n",
    "print(\"Chars:\", chars)\n",
    "print(\"Freq:\", freq)\n"
   ]
  },
  {
   "cell_type": "markdown",
   "id": "809f7e21-87cd-4a4b-ab43-f66fc16eb911",
   "metadata": {},
   "source": [
    "* Завдання 4"
   ]
  },
  {
   "cell_type": "markdown",
   "id": "8febe333-c349-4ddd-a2c9-133f0bc5407e",
   "metadata": {},
   "source": [
    "__Постановка задачі:__ Опрацювати самостійно тему [декодування Гафмена] і скориставшись наведеним там кодом, декодувати повідомлення, задане варіантом (варіант 6)"
   ]
  },
  {
   "cell_type": "code",
   "execution_count": 2,
   "id": "5307bf78-e31b-41e3-a2c0-20fdeb9ad374",
   "metadata": {},
   "outputs": [
    {
     "name": "stdout",
     "output_type": "stream",
     "text": [
      "Encoded Huffman Data:\n",
      "1011010110001100011000110100010111001011011001011110100100111010011100000111111111111110110110110110110010100000\n",
      "\n",
      "Decoded Huffman Data:\n",
      "AARERERERYUBAABACBBCBCEEFFFGGGGGGDEE\u0000\n"
     ]
    }
   ],
   "source": [
    "import heapq\n",
    "from collections import defaultdict\n",
    "\n",
    "codes = {}\n",
    "freq = defaultdict(int)\n",
    "\n",
    "class MinHeapNode:\n",
    "    def __init__(self, data, freq):\n",
    "        self.left = None\n",
    "        self.right = None\n",
    "        self.data = data\n",
    "        self.freq = freq\n",
    "\n",
    "    def __lt__(self, other):\n",
    "        return self.freq < other.freq\n",
    "\n",
    "def store_codes(root, str):\n",
    "    if root is None:\n",
    "        return\n",
    "    if root.data != '$':\n",
    "        codes[root.data] = str\n",
    "    store_codes(root.left, str + \"0\")\n",
    "    store_codes(root.right, str + \"1\")\n",
    "\n",
    "def huffman_codes(size):\n",
    "    global minHeap\n",
    "    for key in freq:\n",
    "        minHeap.append(MinHeapNode(key, freq[key]))\n",
    "    heapq.heapify(minHeap)\n",
    "    while len(minHeap) != 1:\n",
    "        left = heapq.heappop(minHeap)\n",
    "        right = heapq.heappop(minHeap)\n",
    "        top = MinHeapNode('$', left.freq + right.freq)\n",
    "        top.left = left\n",
    "        top.right = right\n",
    "        heapq.heappush(minHeap, top)\n",
    "    store_codes(minHeap[0], \"\")\n",
    "\n",
    "def calc_freq(str, n):\n",
    "    for i in range(n):\n",
    "        freq[str[i]] += 1\n",
    "\n",
    "def decode_file(root, s):\n",
    "    ans = \"\"\n",
    "    curr = root\n",
    "    n = len(s)\n",
    "    for i in range(n):\n",
    "        if s[i] == '0':\n",
    "            curr = curr.left\n",
    "        else:\n",
    "            curr = curr.right\n",
    "        if curr.left is None and curr.right is None:\n",
    "            ans += curr.data\n",
    "            curr = root\n",
    "    return ans + '\\0'\n",
    "\n",
    "if __name__ == \"__main__\":\n",
    "    minHeap = []\n",
    "    text = \"AARERERERYUBAABACBBCBCEEFFFGGGGGGDEE\"\n",
    "    encoded_string, decoded_string = \"\", \"\"\n",
    "    calc_freq(text, len(text))\n",
    "    huffman_codes(len(text))\n",
    "\n",
    "    for char in text:\n",
    "        encoded_string += codes[char]\n",
    "\n",
    "    print(\"Encoded Huffman Data:\")\n",
    "    print(encoded_string)\n",
    "\n",
    "    decoded_string = decode_file(minHeap[0], encoded_string)\n",
    "    print(\"\\nDecoded Huffman Data:\")\n",
    "    print(decoded_string)\n"
   ]
  },
  {
   "cell_type": "markdown",
   "id": "a03035b2-98e5-49c8-add1-bb3d883faaf7",
   "metadata": {},
   "source": [
    "### Контрольні запитання"
   ]
  },
  {
   "cell_type": "markdown",
   "id": "db42b436-4b32-4ceb-b5ac-a7c03baf3f4f",
   "metadata": {},
   "source": [
    "1. Що таке жадібні алгоритми?\n",
    "\n",
    "Жадібні алгоритми - це алгоритми, які приймають локально найкращі рішення на кожному кроці з метою отримати глобально оптимальний результат. Вони не завжди гарантують найкращий результат, але працюють швидко та просто.\n",
    "\n",
    "2. Що таке префіксний код? Який код використовується у коді Гафмена?\n",
    "\n",
    "Префіксний код - це код, у якому ні один код для символу не є префіксом іншого коду. У коді Гафмена використовується префіксний код, де частіші символи кодуються коротшими бітовими послідовностями, а рідші - довшими.\n",
    "Як пов’язана структура даних «купа» зі структурою даних «черга з пріоритетами»?\n",
    "\n",
    "Купа є основою для реалізації черги з пріоритетами. Черга з пріоритетами використовує купу для забезпечення того, що елементи з найвищим пріоритетом доступні першими.\n",
    "Що таке стиснення даних і для чого воно використовується? Які його головні переваги?\n",
    "\n",
    "Стиснення даних - це процес зменшення обсягу даних з метою зменшення їх просторової або часової складності. Його головні переваги полягають у зменшенні обсягу зберігання даних, збільшенні швидкості передачі та заощадженні пропускної здатності мережі.\n",
    "Які кроки необхідно виконати для стиснення даних за допомогою алгоритму кодування Гафмена?\n",
    "\n",
    "Для стиснення даних за допомогою алгоритму кодування Гафмена потрібно:\n",
    "Побудувати таблицю частот символів.\n",
    "Створити дерево кодування, де кожен символ має свій унікальний код.\n",
    "Закодувати дані, замінивши кожен символ його кодом.\n",
    "Які головні обмеження та недоліки алгоритму кодування Гафмена? Чи можливо покращити його продуктивність?\n",
    "\n",
    "Головні обмеження і недоліки алгоритму кодування Гафмена включають непрактичність для деяких видів даних, накладні витрати на побудову та зберігання дерева кодування, а також недоцільність для деяких типів даних. Продуктивність може бути покращена за допомогою оптимізацій або використання інших алгоритмів стиснення.\n",
    "Які існують альтернативні методи стиснення даних, що можуть конкурувати з алгоритмом Гафмена?\n",
    "\n",
    "До альтернативних методів стиснення даних, що конкурують з алгоритмом Гафмена, включаються методи, такі як алгоритми Хаффмана, LZ77, LZ78, а також методи, засновані на архітектурі зрізаних словників.\n",
    "Які практичні застосування можуть мати алгоритми стиснення даних, зокрема алгоритм Гафмена, у сучасних інформаційних системах?\n",
    "\n",
    "Практичні застосування алгоритмів стиснення даних, включаючи алгоритм Гафмена, включають зменшення обсягу даних для зберігання на диску або передачі по мережі, підвищення швидкості передачі даних і зменшення використання пропускної здатності мережі. Вони застосовуються у сферах зберігання даних, передачі даних по мережі, стисненні зображень, аудіо та відео, а також в управлінні даними у сучасних інформаційни"
   ]
  }
 ],
 "metadata": {
  "kernelspec": {
   "display_name": "Python 3 (ipykernel)",
   "language": "python",
   "name": "python3"
  },
  "language_info": {
   "codemirror_mode": {
    "name": "ipython",
    "version": 3
   },
   "file_extension": ".py",
   "mimetype": "text/x-python",
   "name": "python",
   "nbconvert_exporter": "python",
   "pygments_lexer": "ipython3",
   "version": "3.11.7"
  }
 },
 "nbformat": 4,
 "nbformat_minor": 5
}
